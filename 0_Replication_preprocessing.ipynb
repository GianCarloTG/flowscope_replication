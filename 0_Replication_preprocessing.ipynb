{
 "cells": [
  {
   "cell_type": "code",
   "execution_count": 69,
   "id": "a45f5a7a-2d09-4c6b-bfad-020125307987",
   "metadata": {},
   "outputs": [],
   "source": [
    "# pip install networkx==2.6"
   ]
  },
  {
   "cell_type": "markdown",
   "id": "e39e592c-44b6-421d-a989-59a6989744d1",
   "metadata": {},
   "source": [
    "# Data sample #1\n",
    "Data from AML IBM kaggle repository"
   ]
  },
  {
   "cell_type": "code",
   "execution_count": 2,
   "id": "98573ef9-844e-4b90-ad1e-01ad3160ea69",
   "metadata": {},
   "outputs": [
    {
     "name": "stdout",
     "output_type": "stream",
     "text": [
      "Using backend cpu\n"
     ]
    }
   ],
   "source": [
    "import spartan as st\n",
    "import numpy as np\n",
    "import pandas as pd"
   ]
  },
  {
   "cell_type": "code",
   "execution_count": 2,
   "id": "f3facb81-abc7-4f0f-8e80-290717253d83",
   "metadata": {},
   "outputs": [
    {
     "data": {
      "text/html": [
       "<div>\n",
       "<style scoped>\n",
       "    .dataframe tbody tr th:only-of-type {\n",
       "        vertical-align: middle;\n",
       "    }\n",
       "\n",
       "    .dataframe tbody tr th {\n",
       "        vertical-align: top;\n",
       "    }\n",
       "\n",
       "    .dataframe thead th {\n",
       "        text-align: right;\n",
       "    }\n",
       "</style>\n",
       "<table border=\"1\" class=\"dataframe\">\n",
       "  <thead>\n",
       "    <tr style=\"text-align: right;\">\n",
       "      <th></th>\n",
       "      <th>Timestamp</th>\n",
       "      <th>From Bank</th>\n",
       "      <th>Account</th>\n",
       "      <th>To Bank</th>\n",
       "      <th>Account.1</th>\n",
       "      <th>Amount Received</th>\n",
       "      <th>Receiving Currency</th>\n",
       "      <th>Amount Paid</th>\n",
       "      <th>Payment Currency</th>\n",
       "      <th>Payment Format</th>\n",
       "      <th>Is Laundering</th>\n",
       "    </tr>\n",
       "  </thead>\n",
       "  <tbody>\n",
       "    <tr>\n",
       "      <th>0</th>\n",
       "      <td>2022/09/01 00:08</td>\n",
       "      <td>11</td>\n",
       "      <td>8000ECA90</td>\n",
       "      <td>11</td>\n",
       "      <td>8000ECA90</td>\n",
       "      <td>3195403.00</td>\n",
       "      <td>US Dollar</td>\n",
       "      <td>3195403.00</td>\n",
       "      <td>US Dollar</td>\n",
       "      <td>Reinvestment</td>\n",
       "      <td>0</td>\n",
       "    </tr>\n",
       "    <tr>\n",
       "      <th>1</th>\n",
       "      <td>2022/09/01 00:21</td>\n",
       "      <td>3402</td>\n",
       "      <td>80021DAD0</td>\n",
       "      <td>3402</td>\n",
       "      <td>80021DAD0</td>\n",
       "      <td>1858.96</td>\n",
       "      <td>US Dollar</td>\n",
       "      <td>1858.96</td>\n",
       "      <td>US Dollar</td>\n",
       "      <td>Reinvestment</td>\n",
       "      <td>0</td>\n",
       "    </tr>\n",
       "    <tr>\n",
       "      <th>2</th>\n",
       "      <td>2022/09/01 00:00</td>\n",
       "      <td>11</td>\n",
       "      <td>8000ECA90</td>\n",
       "      <td>1120</td>\n",
       "      <td>8006AA910</td>\n",
       "      <td>592571.00</td>\n",
       "      <td>US Dollar</td>\n",
       "      <td>592571.00</td>\n",
       "      <td>US Dollar</td>\n",
       "      <td>Cheque</td>\n",
       "      <td>0</td>\n",
       "    </tr>\n",
       "    <tr>\n",
       "      <th>3</th>\n",
       "      <td>2022/09/01 00:16</td>\n",
       "      <td>3814</td>\n",
       "      <td>8006AD080</td>\n",
       "      <td>3814</td>\n",
       "      <td>8006AD080</td>\n",
       "      <td>12.32</td>\n",
       "      <td>US Dollar</td>\n",
       "      <td>12.32</td>\n",
       "      <td>US Dollar</td>\n",
       "      <td>Reinvestment</td>\n",
       "      <td>0</td>\n",
       "    </tr>\n",
       "  </tbody>\n",
       "</table>\n",
       "</div>"
      ],
      "text/plain": [
       "          Timestamp  From Bank    Account  To Bank  Account.1  \\\n",
       "0  2022/09/01 00:08         11  8000ECA90       11  8000ECA90   \n",
       "1  2022/09/01 00:21       3402  80021DAD0     3402  80021DAD0   \n",
       "2  2022/09/01 00:00         11  8000ECA90     1120  8006AA910   \n",
       "3  2022/09/01 00:16       3814  8006AD080     3814  8006AD080   \n",
       "\n",
       "   Amount Received Receiving Currency  Amount Paid Payment Currency  \\\n",
       "0       3195403.00          US Dollar   3195403.00        US Dollar   \n",
       "1          1858.96          US Dollar      1858.96        US Dollar   \n",
       "2        592571.00          US Dollar    592571.00        US Dollar   \n",
       "3            12.32          US Dollar        12.32        US Dollar   \n",
       "\n",
       "  Payment Format  Is Laundering  \n",
       "0   Reinvestment              0  \n",
       "1   Reinvestment              0  \n",
       "2         Cheque              0  \n",
       "3   Reinvestment              0  "
      ]
     },
     "execution_count": 2,
     "metadata": {},
     "output_type": "execute_result"
    }
   ],
   "source": [
    "df_original = pd.read_csv(\"./inputData/LI-Small_Trans.csv\")\n",
    "df_original.head(4)"
   ]
  },
  {
   "cell_type": "code",
   "execution_count": 4,
   "id": "c58672ac-84aa-49dc-ba79-d62b5e9886dc",
   "metadata": {},
   "outputs": [],
   "source": [
    "# renaming fields\n",
    "df = df_original.copy()\n",
    "df.rename(columns = {'From Bank':'bankA',\n",
    "                       'Account':'A',\n",
    "                       'To Bank':'bankB',\n",
    "                       'Account.1':'B',\n",
    "                       'Amount Received':'sent1',\n",
    "                       'Receiving Currency':'currency_sent',\n",
    "                       'Payment Currency':'currency_recieved',\n",
    "                       'Amount Paid':'sent2',\n",
    "                       'Is Laundering':'ground_truth'}, inplace=True) #'70' #US Dollar"
   ]
  },
  {
   "cell_type": "code",
   "execution_count": 7,
   "id": "a0e664cd-aec5-48bf-8154-e8229499fd1d",
   "metadata": {},
   "outputs": [
    {
     "data": {
      "text/plain": [
       "ground_truth\n",
       "0    0.999485\n",
       "1    0.000515\n",
       "Name: proportion, dtype: float64"
      ]
     },
     "execution_count": 7,
     "metadata": {},
     "output_type": "execute_result"
    }
   ],
   "source": [
    "# checking % of fraud operations\n",
    "df.ground_truth.value_counts(normalize = 'True')"
   ]
  },
  {
   "cell_type": "code",
   "execution_count": 4,
   "id": "545dcffb-2b74-4090-8139-4e00e2e3921d",
   "metadata": {},
   "outputs": [],
   "source": [
    "# df = df.sample(frac=0.1, replace=True, random_state=1)"
   ]
  },
  {
   "cell_type": "code",
   "execution_count": 10,
   "id": "5e3ef062-779d-454a-aa69-d66a38c24d6a",
   "metadata": {},
   "outputs": [],
   "source": [
    "#Filtering only US dollar currency\n",
    "\n",
    "filter_currency = (df['currency_sent'] == 'US Dollar') & (df['currency_recieved'] == 'US Dollar')\n",
    "df = df[filter_currency]\n",
    "df = df[['A','B','sent1','sent2','ground_truth']]"
   ]
  },
  {
   "cell_type": "code",
   "execution_count": 5,
   "id": "e51b5d9b-f3b6-4491-bc18-9fb221ebec00",
   "metadata": {},
   "outputs": [],
   "source": [
    "# generating two sub-graphs\n",
    "accounts_A = list(df.A.values)\n",
    "accounts_B = list(df.B.values)\n",
    "\n",
    "in_accounts = [account for account in accounts_A if account not in accounts_B]\n",
    "out_accounts = [account for account in accounts_A if account not in in_accounts]"
   ]
  },
  {
   "cell_type": "code",
   "execution_count": 11,
   "id": "b7cc8eed-61e8-44e1-8fdd-dc9e1f20be96",
   "metadata": {},
   "outputs": [
    {
     "data": {
      "text/html": [
       "<div>\n",
       "<style scoped>\n",
       "    .dataframe tbody tr th:only-of-type {\n",
       "        vertical-align: middle;\n",
       "    }\n",
       "\n",
       "    .dataframe tbody tr th {\n",
       "        vertical-align: top;\n",
       "    }\n",
       "\n",
       "    .dataframe thead th {\n",
       "        text-align: right;\n",
       "    }\n",
       "</style>\n",
       "<table border=\"1\" class=\"dataframe\">\n",
       "  <thead>\n",
       "    <tr style=\"text-align: right;\">\n",
       "      <th></th>\n",
       "      <th>A</th>\n",
       "      <th>B</th>\n",
       "      <th>sent1</th>\n",
       "      <th>sent2</th>\n",
       "      <th>ground_truth</th>\n",
       "    </tr>\n",
       "  </thead>\n",
       "  <tbody>\n",
       "    <tr>\n",
       "      <th>0</th>\n",
       "      <td>8000ECA90</td>\n",
       "      <td>8000ECA90</td>\n",
       "      <td>3195403.00</td>\n",
       "      <td>3195403.00</td>\n",
       "      <td>0</td>\n",
       "    </tr>\n",
       "    <tr>\n",
       "      <th>1</th>\n",
       "      <td>80021DAD0</td>\n",
       "      <td>80021DAD0</td>\n",
       "      <td>1858.96</td>\n",
       "      <td>1858.96</td>\n",
       "      <td>0</td>\n",
       "    </tr>\n",
       "    <tr>\n",
       "      <th>2</th>\n",
       "      <td>8000ECA90</td>\n",
       "      <td>8006AA910</td>\n",
       "      <td>592571.00</td>\n",
       "      <td>592571.00</td>\n",
       "      <td>0</td>\n",
       "    </tr>\n",
       "    <tr>\n",
       "      <th>3</th>\n",
       "      <td>8006AD080</td>\n",
       "      <td>8006AD080</td>\n",
       "      <td>12.32</td>\n",
       "      <td>12.32</td>\n",
       "      <td>0</td>\n",
       "    </tr>\n",
       "    <tr>\n",
       "      <th>4</th>\n",
       "      <td>8006AD530</td>\n",
       "      <td>8006AD530</td>\n",
       "      <td>2941.56</td>\n",
       "      <td>2941.56</td>\n",
       "      <td>0</td>\n",
       "    </tr>\n",
       "    <tr>\n",
       "      <th>...</th>\n",
       "      <td>...</td>\n",
       "      <td>...</td>\n",
       "      <td>...</td>\n",
       "      <td>...</td>\n",
       "      <td>...</td>\n",
       "    </tr>\n",
       "    <tr>\n",
       "      <th>6920625</th>\n",
       "      <td>801B97B80</td>\n",
       "      <td>81BE03AA0</td>\n",
       "      <td>1408.98</td>\n",
       "      <td>1408.98</td>\n",
       "      <td>0</td>\n",
       "    </tr>\n",
       "    <tr>\n",
       "      <th>6920626</th>\n",
       "      <td>801B97B80</td>\n",
       "      <td>81BE03AA0</td>\n",
       "      <td>1057.71</td>\n",
       "      <td>1057.71</td>\n",
       "      <td>0</td>\n",
       "    </tr>\n",
       "    <tr>\n",
       "      <th>6920627</th>\n",
       "      <td>801B97B80</td>\n",
       "      <td>81BE03AA0</td>\n",
       "      <td>464.87</td>\n",
       "      <td>464.87</td>\n",
       "      <td>0</td>\n",
       "    </tr>\n",
       "    <tr>\n",
       "      <th>6920628</th>\n",
       "      <td>81256E7B0</td>\n",
       "      <td>81BEE05E0</td>\n",
       "      <td>161.40</td>\n",
       "      <td>161.40</td>\n",
       "      <td>0</td>\n",
       "    </tr>\n",
       "    <tr>\n",
       "      <th>6920629</th>\n",
       "      <td>81256E7B0</td>\n",
       "      <td>81BEE05E0</td>\n",
       "      <td>60.12</td>\n",
       "      <td>60.12</td>\n",
       "      <td>0</td>\n",
       "    </tr>\n",
       "  </tbody>\n",
       "</table>\n",
       "<p>2502756 rows × 5 columns</p>\n",
       "</div>"
      ],
      "text/plain": [
       "                 A          B       sent1       sent2  ground_truth\n",
       "0        8000ECA90  8000ECA90  3195403.00  3195403.00             0\n",
       "1        80021DAD0  80021DAD0     1858.96     1858.96             0\n",
       "2        8000ECA90  8006AA910   592571.00   592571.00             0\n",
       "3        8006AD080  8006AD080       12.32       12.32             0\n",
       "4        8006AD530  8006AD530     2941.56     2941.56             0\n",
       "...            ...        ...         ...         ...           ...\n",
       "6920625  801B97B80  81BE03AA0     1408.98     1408.98             0\n",
       "6920626  801B97B80  81BE03AA0     1057.71     1057.71             0\n",
       "6920627  801B97B80  81BE03AA0      464.87      464.87             0\n",
       "6920628  81256E7B0  81BEE05E0      161.40      161.40             0\n",
       "6920629  81256E7B0  81BEE05E0       60.12       60.12             0\n",
       "\n",
       "[2502756 rows x 5 columns]"
      ]
     },
     "execution_count": 11,
     "metadata": {},
     "output_type": "execute_result"
    }
   ],
   "source": [
    "df"
   ]
  },
  {
   "cell_type": "code",
   "execution_count": 12,
   "id": "651a6e12-d28a-454c-8d76-a8e892962905",
   "metadata": {},
   "outputs": [],
   "source": [
    "graph_1 = df[df['A'].isin(in_accounts)][['A','B','sent1','ground_truth']]\n",
    "graph_2 = df[df['B'].isin(out_accounts)][['A','B','sent2','ground_truth']]"
   ]
  },
  {
   "cell_type": "code",
   "execution_count": 14,
   "id": "d9ec7483-2b50-4b3e-a701-7d5e000d459c",
   "metadata": {},
   "outputs": [],
   "source": [
    "# Saving sub-graphs\n",
    "graph_1.to_csv('./inputData/processed_graph_1.csv', sep='\\t', index=False)\n",
    "graph_2.to_csv('./inputData/processed_graph_2.csv', sep='\\t', index=False)"
   ]
  },
  {
   "cell_type": "markdown",
   "id": "78b739eb-4227-41b9-b1bf-0db7b9e2883c",
   "metadata": {},
   "source": [
    "## Sampling"
   ]
  },
  {
   "cell_type": "code",
   "execution_count": 23,
   "id": "7e8eb12b-641e-4727-b2c8-4686b587cdc8",
   "metadata": {},
   "outputs": [],
   "source": [
    "# Sampling stratified due the computational resoruces\n",
    "sample_franc = 0.0005\n",
    "\n",
    "sample_1 = pd.read_csv(\"./inputData/processed_graph_1.csv\", sep='\\t')\n",
    "sample_1['freq'] = sample_1.groupby('ground_truth')['ground_truth'].transform('count')\n",
    "sample_1 = sample_1.sample(frac=sample_franc, weights=sample_1.freq, random_state=42)\\\n",
    "                   .reset_index(drop=True)\n",
    "sample_1['A'] = sample_1['A'].str.extract('(\\d+)').astype(int)\n",
    "sample_1['B'] = sample_1['B'].str.extract('(\\d+)').astype(int)\n",
    "sample_1 = sample_1[['A','B','sent1']]\n",
    "\n",
    "\n",
    "sample_2 = pd.read_csv(\"./inputData/processed_graph_2.csv\", sep='\\t')\n",
    "sample_2['freq'] = sample_2.groupby('ground_truth')['ground_truth'].transform('count')\n",
    "sample_2 = sample_2.sample(frac=sample_franc, weights=sample_2.freq, random_state=42)\\\n",
    "                   .reset_index(drop=True)\n",
    "sample_2['A'] = sample_2['A'].str.extract('(\\d+)').astype(int)\n",
    "sample_2['B'] = sample_2['B'].str.extract('(\\d+)').astype(int)\n",
    "\n",
    "sample_2 = sample_2[['A','B','sent2']]"
   ]
  },
  {
   "cell_type": "code",
   "execution_count": 24,
   "id": "fd8c845d-dacd-40bb-b94c-426250a80a7e",
   "metadata": {},
   "outputs": [
    {
     "data": {
      "text/plain": [
       "(73, 3)"
      ]
     },
     "metadata": {},
     "output_type": "display_data"
    },
    {
     "data": {
      "text/plain": [
       "(1183, 3)"
      ]
     },
     "metadata": {},
     "output_type": "display_data"
    }
   ],
   "source": [
    "display(sample_1.shape)\n",
    "display(sample_2.shape)"
   ]
  },
  {
   "cell_type": "code",
   "execution_count": 25,
   "id": "2963814f-05bf-4e3c-a6e4-96d722f953d5",
   "metadata": {},
   "outputs": [],
   "source": [
    "sample_1.to_csv('./inputData/sample_1.csv', sep=',', index=False,header=False)\n",
    "sample_2.to_csv('./inputData/sample_2.csv', sep=',', index=False,header=False)"
   ]
  },
  {
   "cell_type": "markdown",
   "id": "a51e5cfa-acdd-4866-abba-cc0e83c052a7",
   "metadata": {},
   "source": [
    "# Data sample #2"
   ]
  },
  {
   "cell_type": "code",
   "execution_count": 34,
   "id": "3e1a8c52-71b4-4573-8bd4-ecaceac20fcc",
   "metadata": {},
   "outputs": [
    {
     "data": {
      "text/html": [
       "<div>\n",
       "<style scoped>\n",
       "    .dataframe tbody tr th:only-of-type {\n",
       "        vertical-align: middle;\n",
       "    }\n",
       "\n",
       "    .dataframe tbody tr th {\n",
       "        vertical-align: top;\n",
       "    }\n",
       "\n",
       "    .dataframe thead th {\n",
       "        text-align: right;\n",
       "    }\n",
       "</style>\n",
       "<table border=\"1\" class=\"dataframe\">\n",
       "  <thead>\n",
       "    <tr style=\"text-align: right;\">\n",
       "      <th></th>\n",
       "      <th>typeofaction</th>\n",
       "      <th>sourceid</th>\n",
       "      <th>destinationid</th>\n",
       "      <th>amountofmoney</th>\n",
       "      <th>date</th>\n",
       "      <th>isfraud</th>\n",
       "      <th>typeoffraud</th>\n",
       "    </tr>\n",
       "  </thead>\n",
       "  <tbody>\n",
       "    <tr>\n",
       "      <th>0</th>\n",
       "      <td>cash-in</td>\n",
       "      <td>30105</td>\n",
       "      <td>28942</td>\n",
       "      <td>494528</td>\n",
       "      <td>2019-07-19 14:40:00</td>\n",
       "      <td>1</td>\n",
       "      <td>type1</td>\n",
       "    </tr>\n",
       "    <tr>\n",
       "      <th>1</th>\n",
       "      <td>cash-in</td>\n",
       "      <td>30105</td>\n",
       "      <td>8692</td>\n",
       "      <td>494528</td>\n",
       "      <td>2019-05-17 14:57:00</td>\n",
       "      <td>1</td>\n",
       "      <td>type1</td>\n",
       "    </tr>\n",
       "    <tr>\n",
       "      <th>2</th>\n",
       "      <td>cash-in</td>\n",
       "      <td>30105</td>\n",
       "      <td>60094</td>\n",
       "      <td>494528</td>\n",
       "      <td>2019-07-20 13:20:00</td>\n",
       "      <td>1</td>\n",
       "      <td>type1</td>\n",
       "    </tr>\n",
       "    <tr>\n",
       "      <th>3</th>\n",
       "      <td>cash-in</td>\n",
       "      <td>30105</td>\n",
       "      <td>20575</td>\n",
       "      <td>494528</td>\n",
       "      <td>2019-07-03 14:15:00</td>\n",
       "      <td>1</td>\n",
       "      <td>type1</td>\n",
       "    </tr>\n",
       "  </tbody>\n",
       "</table>\n",
       "</div>"
      ],
      "text/plain": [
       "  typeofaction  sourceid  destinationid  amountofmoney                 date  \\\n",
       "0      cash-in     30105          28942         494528  2019-07-19 14:40:00   \n",
       "1      cash-in     30105           8692         494528  2019-05-17 14:57:00   \n",
       "2      cash-in     30105          60094         494528  2019-07-20 13:20:00   \n",
       "3      cash-in     30105          20575         494528  2019-07-03 14:15:00   \n",
       "\n",
       "   isfraud typeoffraud  \n",
       "0        1       type1  \n",
       "1        1       type1  \n",
       "2        1       type1  \n",
       "3        1       type1  "
      ]
     },
     "metadata": {},
     "output_type": "display_data"
    },
    {
     "data": {
      "text/plain": [
       "(2340, 7)"
      ]
     },
     "metadata": {},
     "output_type": "display_data"
    }
   ],
   "source": [
    "df_original = pd.read_csv(\"./inputData/ML.csv\")\n",
    "display(df_original.head(4))\n",
    "display(df_original.shape)"
   ]
  },
  {
   "cell_type": "code",
   "execution_count": 30,
   "id": "f52181f8-21cf-4da0-8cd2-dcca248c954b",
   "metadata": {},
   "outputs": [],
   "source": [
    "df = df_original.copy()"
   ]
  },
  {
   "cell_type": "code",
   "execution_count": 32,
   "id": "222ddae7-5ffa-483f-9f88-08a476853e48",
   "metadata": {},
   "outputs": [
    {
     "data": {
      "text/plain": [
       "ground_truth\n",
       "1    0.597863\n",
       "0    0.402137\n",
       "Name: proportion, dtype: float64"
      ]
     },
     "execution_count": 32,
     "metadata": {},
     "output_type": "execute_result"
    }
   ],
   "source": [
    "df.rename(columns = {\n",
    "                       'sourceid':'A',\n",
    "                       'destinationid':'B',\n",
    "                       'amountofmoney':'sent1',\n",
    "                       'isfraud':'ground_truth'}, inplace=True) \n",
    "df.ground_truth.value_counts(normalize = 'True')"
   ]
  },
  {
   "cell_type": "code",
   "execution_count": 33,
   "id": "d3966f91-7c35-4960-90b4-5b3a203e5d9e",
   "metadata": {},
   "outputs": [],
   "source": [
    "# money in\n",
    "accounts_A = list(df.A.values)\n",
    "accounts_B = list(df.B.values)\n",
    "\n",
    "in_accounts = [account for account in accounts_A if account not in accounts_B]\n",
    "out_accounts = [account for account in accounts_A if account not in in_accounts]"
   ]
  },
  {
   "cell_type": "code",
   "execution_count": 39,
   "id": "231b8d6a-8e81-43e2-a57d-4b464f5e313b",
   "metadata": {},
   "outputs": [],
   "source": [
    "graph_1 = df[df['A'].isin(in_accounts)][['A','B','sent1']]\n",
    "graph_2 = df[df['B'].isin(out_accounts)][['A','B','sent1']]"
   ]
  },
  {
   "cell_type": "code",
   "execution_count": 40,
   "id": "bc6c16ac-ccd9-437c-8fc3-870e38f9672f",
   "metadata": {},
   "outputs": [],
   "source": [
    "graph_1.to_csv('./inputData/processed_ml_1.csv', sep=',', index=False,header=False)\n",
    "graph_2.to_csv('./inputData/processed_ml_2.csv', sep=',', index=False,header=False)"
   ]
  },
  {
   "cell_type": "code",
   "execution_count": 8,
   "id": "617158c8-a588-48b1-9c9f-2980a0e51b00",
   "metadata": {},
   "outputs": [],
   "source": [
    "#########\n",
    "df = pd.read_csv('./inputData/processed_ml_1.csv', sep=',', header = None)"
   ]
  },
  {
   "cell_type": "code",
   "execution_count": 15,
   "id": "d4f9587d-5e61-4096-83c9-943591391c46",
   "metadata": {},
   "outputs": [],
   "source": [
    "df[0] = df[0].astype('str') + 'A'"
   ]
  },
  {
   "cell_type": "code",
   "execution_count": 17,
   "id": "a816a921-4af7-4512-b43a-948ffce445a5",
   "metadata": {},
   "outputs": [],
   "source": [
    "df.to_csv('./inputData/processed_ml_1_v2.csv', sep=',', index=False,header=False)"
   ]
  },
  {
   "cell_type": "code",
   "execution_count": 16,
   "id": "aba5db6e-3f66-47a2-acd4-156ad83fab01",
   "metadata": {},
   "outputs": [
    {
     "data": {
      "text/html": [
       "<div>\n",
       "<style scoped>\n",
       "    .dataframe tbody tr th:only-of-type {\n",
       "        vertical-align: middle;\n",
       "    }\n",
       "\n",
       "    .dataframe tbody tr th {\n",
       "        vertical-align: top;\n",
       "    }\n",
       "\n",
       "    .dataframe thead th {\n",
       "        text-align: right;\n",
       "    }\n",
       "</style>\n",
       "<table border=\"1\" class=\"dataframe\">\n",
       "  <thead>\n",
       "    <tr style=\"text-align: right;\">\n",
       "      <th></th>\n",
       "      <th>0</th>\n",
       "      <th>1</th>\n",
       "      <th>2</th>\n",
       "    </tr>\n",
       "  </thead>\n",
       "  <tbody>\n",
       "    <tr>\n",
       "      <th>0</th>\n",
       "      <td>80740A</td>\n",
       "      <td>29758</td>\n",
       "      <td>388294</td>\n",
       "    </tr>\n",
       "    <tr>\n",
       "      <th>1</th>\n",
       "      <td>80740A</td>\n",
       "      <td>47869</td>\n",
       "      <td>388294</td>\n",
       "    </tr>\n",
       "    <tr>\n",
       "      <th>2</th>\n",
       "      <td>80740A</td>\n",
       "      <td>79227</td>\n",
       "      <td>388294</td>\n",
       "    </tr>\n",
       "    <tr>\n",
       "      <th>3</th>\n",
       "      <td>80740A</td>\n",
       "      <td>68225</td>\n",
       "      <td>388294</td>\n",
       "    </tr>\n",
       "    <tr>\n",
       "      <th>4</th>\n",
       "      <td>80740A</td>\n",
       "      <td>65031</td>\n",
       "      <td>388294</td>\n",
       "    </tr>\n",
       "    <tr>\n",
       "      <th>...</th>\n",
       "      <td>...</td>\n",
       "      <td>...</td>\n",
       "      <td>...</td>\n",
       "    </tr>\n",
       "    <tr>\n",
       "      <th>1502</th>\n",
       "      <td>14945A</td>\n",
       "      <td>43793</td>\n",
       "      <td>106907</td>\n",
       "    </tr>\n",
       "    <tr>\n",
       "      <th>1503</th>\n",
       "      <td>9532A</td>\n",
       "      <td>43793</td>\n",
       "      <td>106907</td>\n",
       "    </tr>\n",
       "    <tr>\n",
       "      <th>1504</th>\n",
       "      <td>27332A</td>\n",
       "      <td>43793</td>\n",
       "      <td>106907</td>\n",
       "    </tr>\n",
       "    <tr>\n",
       "      <th>1505</th>\n",
       "      <td>32685A</td>\n",
       "      <td>43793</td>\n",
       "      <td>106907</td>\n",
       "    </tr>\n",
       "    <tr>\n",
       "      <th>1506</th>\n",
       "      <td>26390A</td>\n",
       "      <td>43793</td>\n",
       "      <td>106907</td>\n",
       "    </tr>\n",
       "  </tbody>\n",
       "</table>\n",
       "<p>1507 rows × 3 columns</p>\n",
       "</div>"
      ],
      "text/plain": [
       "           0      1       2\n",
       "0     80740A  29758  388294\n",
       "1     80740A  47869  388294\n",
       "2     80740A  79227  388294\n",
       "3     80740A  68225  388294\n",
       "4     80740A  65031  388294\n",
       "...      ...    ...     ...\n",
       "1502  14945A  43793  106907\n",
       "1503   9532A  43793  106907\n",
       "1504  27332A  43793  106907\n",
       "1505  32685A  43793  106907\n",
       "1506  26390A  43793  106907\n",
       "\n",
       "[1507 rows x 3 columns]"
      ]
     },
     "execution_count": 16,
     "metadata": {},
     "output_type": "execute_result"
    }
   ],
   "source": [
    "df"
   ]
  },
  {
   "cell_type": "code",
   "execution_count": null,
   "id": "23b3b7ed-a52d-42d5-b0f3-b2d52dc6a5bb",
   "metadata": {},
   "outputs": [],
   "source": []
  }
 ],
 "metadata": {
  "kernelspec": {
   "display_name": "py310",
   "language": "python",
   "name": "py310"
  },
  "language_info": {
   "codemirror_mode": {
    "name": "ipython",
    "version": 3
   },
   "file_extension": ".py",
   "mimetype": "text/x-python",
   "name": "python",
   "nbconvert_exporter": "python",
   "pygments_lexer": "ipython3",
   "version": "3.10.14"
  }
 },
 "nbformat": 4,
 "nbformat_minor": 5
}
